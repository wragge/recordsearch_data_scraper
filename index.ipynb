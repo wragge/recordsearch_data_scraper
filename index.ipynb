{
 "cells": [
  {
   "cell_type": "markdown",
   "metadata": {},
   "source": [
    "# RecordSearch Data Scraper\n",
    "\n",
    "> Tools for extracting data from the National Archives of Australia's online database, RecordSearch."
   ]
  },
  {
   "cell_type": "markdown",
   "metadata": {},
   "source": [
    "The National Archives of Australia's online database, RecordSearch, contains lots of rich, historical data. Unfortunately there's no API, so we have to resort to screen scrapers to get it out in reusable form. This is a library of scrapers to extract data about the main entities in RecordSearch – Items, Series, and Agencies – from both individual records, and search results.\n",
    "\n",
    "The main classes are:\n",
    "\n",
    "* `RSItem()` – an individual item\n",
    "* `RSItemSearch()` – an advanced search for items\n",
    "* `RSSeries()` – an individual series\n",
    "* `RSSeriesSearch()` – an advanced search for series\n",
    "* `RSAgency()` – an individual agency\n",
    "* `RSAgencySearch()` – an advanced search for agencies\n",
    "\n",
    "RecordSearch makes use of an odd assortment of sessions, redirects, and hidden forms, which make scraping a challenge. Please let me know if something isn't working as expected, as problems can be difficult to pin down!\n",
    "\n",
    "This is a replacement for the original Recordsearch_tools library. The main changes are:\n",
    "\n",
    "* Requirements have been updated (dropping RoboBrowser which seems to be no longer maintained)\n",
    "* The full range of search parameters are now supported for Items, Series, and Agencies\n",
    "* There's a built-in cache for improved efficiency and speed\n",
    "\n",
    "See the [documentation](https://wragge.github.io/recordsearch_data_scraper/) for more details. And check out the [RecordSearch section](https://glam-workbench.net/recordsearch/) of the GLAM Workbench for examples of what's possible."
   ]
  },
  {
   "cell_type": "markdown",
   "metadata": {},
   "source": [
    "## Install"
   ]
  },
  {
   "cell_type": "markdown",
   "metadata": {},
   "source": [
    "`pip install git+https://github.com/wragge/recordsearch_data_scraper.git`"
   ]
  },
  {
   "cell_type": "markdown",
   "metadata": {},
   "source": [
    "## How to use"
   ]
  },
  {
   "cell_type": "markdown",
   "metadata": {},
   "source": [
    "Retrieve an item using its Item ID."
   ]
  },
  {
   "cell_type": "code",
   "execution_count": null,
   "metadata": {},
   "outputs": [],
   "source": [
    "from recordsearch_data_scraper.scrapers import *\n",
    "\n",
    "item = RSItem('3445411')"
   ]
  },
  {
   "cell_type": "markdown",
   "metadata": {},
   "source": [
    "View the item data."
   ]
  },
  {
   "cell_type": "code",
   "execution_count": null,
   "metadata": {},
   "outputs": [
    {
     "data": {
      "text/plain": [
       "{'title': 'WRAGGE Clement Lionel Egerton : SERN 647 : POB Cheadle England : POE Enoggera QLD : NOK  (Father) WRAGGE Clement Lindley',\n",
       " 'identifier': '3445411',\n",
       " 'series': 'B2455',\n",
       " 'control_symbol': 'WRAGGE C L E',\n",
       " 'digitised_status': True,\n",
       " 'digitised_pages': 47,\n",
       " 'access_status': 'Open',\n",
       " 'access_decision_reasons': [],\n",
       " 'location': 'Canberra',\n",
       " 'retrieved': '2021-04-25T21:12:22.620414+10:00',\n",
       " 'contents_date_str': '1914 - 1920',\n",
       " 'contents_start_date': '1914',\n",
       " 'contents_end_date': '1920',\n",
       " 'access_decision_date_str': '12 Apr 2001',\n",
       " 'access_decision_date': '2001-04-12'}"
      ]
     },
     "execution_count": null,
     "metadata": {},
     "output_type": "execute_result"
    }
   ],
   "source": [
    "item.data"
   ]
  },
  {
   "cell_type": "markdown",
   "metadata": {},
   "source": [
    "Search for items."
   ]
  },
  {
   "cell_type": "code",
   "execution_count": null,
   "metadata": {},
   "outputs": [],
   "source": [
    "search = RSItemSearch(kw='wragge')"
   ]
  },
  {
   "cell_type": "markdown",
   "metadata": {},
   "source": [
    "View the total number of items in the results set."
   ]
  },
  {
   "cell_type": "code",
   "execution_count": null,
   "metadata": {},
   "outputs": [
    {
     "data": {
      "text/plain": [
       "209"
      ]
     },
     "execution_count": null,
     "metadata": {},
     "output_type": "execute_result"
    }
   ],
   "source": [
    "search.total_results"
   ]
  },
  {
   "cell_type": "markdown",
   "metadata": {},
   "source": [
    "Access the first page of results."
   ]
  },
  {
   "cell_type": "code",
   "execution_count": null,
   "metadata": {},
   "outputs": [],
   "source": [
    "items = search.get_results()"
   ]
  },
  {
   "cell_type": "markdown",
   "metadata": {},
   "source": [
    "View the first result."
   ]
  },
  {
   "cell_type": "code",
   "execution_count": null,
   "metadata": {},
   "outputs": [
    {
     "data": {
      "text/plain": [
       "{'series': 'A2479',\n",
       " 'control_symbol': '17/1306',\n",
       " 'title': 'The Wragge Estate. Property for sale.',\n",
       " 'identifier': '149309',\n",
       " 'access_status': 'Open',\n",
       " 'location': 'Canberra',\n",
       " 'contents_date_str': '1917 - 1917',\n",
       " 'contents_start_date': '1917',\n",
       " 'contents_end_date': '1917',\n",
       " 'digitised_status': True}"
      ]
     },
     "execution_count": null,
     "metadata": {},
     "output_type": "execute_result"
    }
   ],
   "source": [
    "items['results'][0]"
   ]
  },
  {
   "cell_type": "markdown",
   "metadata": {},
   "source": [
    "The Series and Agency classes follow exactly the same pattern. See the [docs](https://wragge.github.io/recordsearch_data_scraper/) for more examples."
   ]
  },
  {
   "cell_type": "code",
   "execution_count": null,
   "metadata": {},
   "outputs": [],
   "source": []
  }
 ],
 "metadata": {
  "kernelspec": {
   "display_name": "Python 3",
   "language": "python",
   "name": "python3"
  }
 },
 "nbformat": 4,
 "nbformat_minor": 4
}
